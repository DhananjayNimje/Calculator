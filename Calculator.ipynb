{
 "cells": [
  {
   "cell_type": "markdown",
   "id": "96928aac",
   "metadata": {},
   "source": [
    "## Calculator: \n",
    "Build a basic calculator program that can perform arithmetic operations (addition, subtraction, multiplication, division) based on user input."
   ]
  },
  {
   "cell_type": "code",
   "execution_count": 1,
   "id": "8371a61b",
   "metadata": {},
   "outputs": [],
   "source": [
    "# Here's a Python program for a basic calculator that can perform arithmetic operations\n",
    "# (addition, subtraction, multiplication, division) based on user input:\n",
    "\n",
    "def add(x, y):\n",
    "    return x + y\n",
    "\n",
    "def subtract(x, y):\n",
    "    return x - y\n",
    "\n",
    "def multiply(x, y):\n",
    "    return x * y\n",
    "\n",
    "def divide(x, y):\n",
    "    if y == 0:\n",
    "        return \"Cannot divide by zero\"\n",
    "    return x / y\n",
    "\n"
   ]
  },
  {
   "cell_type": "code",
   "execution_count": 2,
   "id": "4ec05978",
   "metadata": {},
   "outputs": [],
   "source": [
    "def calculator():\n",
    "    print(\"Options:\")\n",
    "    print(\"Enter 'add' for addition\")\n",
    "    print(\"Enter 'subtract' for subtraction\")\n",
    "    print(\"Enter 'multiply' for multiplication\")\n",
    "    print(\"Enter 'divide' for division\")\n",
    "    print(\"Enter 'exit' to end the program\")\n",
    "\n",
    "    while True:\n",
    "        choice = input(\"Enter operation: \").lower()\n",
    "\n",
    "        if choice == 'exit':\n",
    "            break\n",
    "\n",
    "        if choice in ('add', 'subtract', 'multiply', 'divide'):\n",
    "            num1 = float(input(\"Enter first number: \"))\n",
    "            num2 = float(input(\"Enter second number: \"))\n",
    "\n",
    "            if choice == 'add':\n",
    "                print(\"Result:\", add(num1, num2))\n",
    "            elif choice == 'subtract':\n",
    "                print(\"Result:\", subtract(num1, num2))\n",
    "            elif choice == 'multiply':\n",
    "                print(\"Result:\", multiply(num1, num2))\n",
    "            elif choice == 'divide':\n",
    "                result = divide(num1, num2)\n",
    "                if result == \"Cannot divide by zero\":\n",
    "                    print(\"Error:\", result)\n",
    "                else:\n",
    "                    print(\"Result:\", result)\n",
    "        else:\n",
    "            print(\"Invalid input. Please enter a valid operation.\")\n",
    "\n"
   ]
  },
  {
   "cell_type": "code",
   "execution_count": 3,
   "id": "5db83f5b",
   "metadata": {},
   "outputs": [
    {
     "name": "stdout",
     "output_type": "stream",
     "text": [
      "Options:\n",
      "Enter 'add' for addition\n",
      "Enter 'subtract' for subtraction\n",
      "Enter 'multiply' for multiplication\n",
      "Enter 'divide' for division\n",
      "Enter 'exit' to end the program\n",
      "Enter operation: add\n",
      "Enter first number: 1\n",
      "Enter second number: 5\n",
      "Result: 6.0\n",
      "Enter operation: exit\n"
     ]
    }
   ],
   "source": [
    "if __name__ == \"__main__\":\n",
    "    calculator()\n",
    "\n",
    "# This program defines four arithmetic functions (`add`, `subtract`, `multiply`, and `divide`) \n",
    "# to perform the respective operations. It also includes a `calculator` function that repeatedly \n",
    "# takes user input to select an operation and two numbers, then performs the operation and displays the result. \n",
    "# The user can exit the calculator by typing 'exit'."
   ]
  },
  {
   "cell_type": "code",
   "execution_count": null,
   "id": "92e7fc82",
   "metadata": {},
   "outputs": [],
   "source": []
  }
 ],
 "metadata": {
  "kernelspec": {
   "display_name": "Python 3 (ipykernel)",
   "language": "python",
   "name": "python3"
  },
  "language_info": {
   "codemirror_mode": {
    "name": "ipython",
    "version": 3
   },
   "file_extension": ".py",
   "mimetype": "text/x-python",
   "name": "python",
   "nbconvert_exporter": "python",
   "pygments_lexer": "ipython3",
   "version": "3.9.7"
  }
 },
 "nbformat": 4,
 "nbformat_minor": 5
}
